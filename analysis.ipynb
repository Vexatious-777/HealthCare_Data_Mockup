{
 "cells": [
  {
   "cell_type": "markdown",
   "id": "d04b65ce",
   "metadata": {
    "jp-MarkdownHeadingCollapsed": true
   },
   "source": [
    "# Primary Care Performance Analysis\n",
    "This notebook analyzes a mock healthcare dataset (`data.csv`) to produce provider-level KPIs and visualizations.\n",
    "\n",
    "Files in this repo:\n",
    "- `data.csv` — mock dataset\n",
    "- `analysis.ipynb` — this notebook\n",
    "- `provider_summary.csv` — aggregated KPI results\n",
    "- `dashboard.png` — visualization snapshot\n"
   ]
  },
  {
   "cell_type": "code",
   "execution_count": null,
   "id": "9840d9d2",
   "metadata": {},
   "outputs": [],
   "source": [
    "import pandas as pd\n",
    "import matplotlib.pyplot as plt\n",
    "df = pd.read_csv('data.csv')\n",
    "df.head()\n"
   ]
  },
  {
   "cell_type": "code",
   "execution_count": null,
   "id": "e86f29ef",
   "metadata": {},
   "outputs": [],
   "source": [
    "# Provider attribution\n",
    "provider_counts = df.groupby('Provider_Name')['Patient_ID'].nunique().sort_values(ascending=False)\n",
    "provider_counts"
   ]
  },
  {
   "cell_type": "code",
   "execution_count": null,
   "id": "91bda00a-c120-454f-8d27-006682e03e97",
   "metadata": {},
   "outputs": [],
   "source": [
    "# Calculate total visits as well\n",
    "total_visits = df.groupby(\"Provider_Name\").size().reset_index(name=\"TotalVisits\")\n",
    "# Create a DataFrame for provider counts\n",
    "provider_counts = provider_counts.reset_index(name=\"UniquePatients\")\n",
    "# Rename columns for clarity\n",
    "provider_counts.columns = ['Provider_Name', 'UniquePatients']\n",
    "# Plotting the provider counts\n",
    "plt.figure(figsize=(10, 6))\n",
    "plt.bar(provider_counts['Provider_Name'], provider_counts['UniquePatients'], color='skyblue')\n",
    "plt.xlabel('Provider Name')\n",
    "plt.ylabel('Unique Patients')\n",
    "plt.title('Unique Patients per Provider')\n",
    "plt.xticks(rotation=45, ha='right')\n",
    "plt.tight_layout()\n",
    "plt.show()\n",
    "\n",
    "# Save the provider counts to a CSV file\n",
    "provider_counts.to_csv(\"provider_counts.csv\", index=False)\n",
    "# Save the total visits to a CSV file\n",
    "total_visits.to_csv(\"total_visits.csv\", index=False)\n",
    "\n",
    "# Combine provider counts and total visits into a summary DataFrame\n",
    "provider_summary = pd.DataFrame({\n",
    "    'Provider_Name': provider_counts['Provider_Name'],\n",
    "    'UniquePatients': provider_counts['UniquePatients'],\n",
    "    'TotalVisits': total_visits['TotalVisits']\n",
    "})\n",
    "# Save the summary DataFrame to a CSV file\n",
    "provider_summary.to_csv(\"provider_summary.csv\", index=False)"
   ]
  },
  {
   "cell_type": "code",
   "execution_count": null,
   "id": "52ef2e3d",
   "metadata": {},
   "outputs": [],
   "source": [
    "# Quality metric compliance\n",
    "quality_rate = df.groupby('Provider_Name')['Quality_Metric'].apply(lambda x: (x=='Met').mean()*100)\n",
    "# Create a DataFrame for quality rates\n",
    "quality_rate_df = quality_rate.reset_index(name='QualityRate')\n",
    "# Rename columns for clarity\n",
    "quality_rate_df.columns = ['Provider_Name', 'QualityRate']\n",
    "# Plotting the quality rates\n",
    "plt.figure(figsize=(10, 6))\n",
    "plt.bar(quality_rate_df['Provider_Name'], quality_rate_df['QualityRate'], color='lightgreen')\n",
    "plt.xlabel('Provider Name')\n",
    "plt.ylabel('Quality Rate (%)')\n",
    "plt.title('Quality Metric Compliance per Provider')\n",
    "plt.xticks(rotation=45, ha='right')\n",
    "plt.tight_layout()\n",
    "plt.show()\n",
    "# Save the quality rate DataFrame to a CSV file\n",
    "quality_rate_df.to_csv(\"quality_rate.csv\", index=False)\n",
    "\n",
    "# Debug Code\n",
    "#print(\"Unique values in Quality_Metric:\")\n",
    "#print(df['Quality_Metric'].value_counts(dropna=False))\n",
    "#print(\"\\nFirst 10 values:\")\n",
    "#print(df['Quality_Metric'].head(10))\n",
    "#print(\"\\nData type:\")\n",
    "#print(df['Quality_Metric'].dtype)\n"
   ]
  },
  {
   "cell_type": "code",
   "execution_count": null,
   "id": "b8c9da0b-e44e-411a-9a8f-6aed8c89111b",
   "metadata": {},
   "outputs": [],
   "source": [
    "#Debug Cell\n",
    "print(\"provider_counts type:\", type(provider_counts))\n",
    "print(\"provider_counts shape:\", provider_counts.shape)\n",
    "print(\"provider_counts columns:\", provider_counts.columns.tolist() if hasattr(provider_counts, 'columns') else 'No columns (it\\'s a Series)')\n",
    "print(\"provider_counts index:\", provider_counts.index.tolist()[:10])  # First 10\n",
    "print(\"provider_counts head:\")\n",
    "print(provider_counts.head())\n",
    "\n",
    "print(\"total_visits type:\", type(total_visits))\n",
    "print(\"total_visits shape:\", total_visits.shape)\n",
    "print(\"total_visits index:\", total_visits.index.tolist())\n",
    "print(\"total_visits head:\")\n",
    "print(total_visits.head())"
   ]
  },
  {
   "cell_type": "code",
   "execution_count": null,
   "id": "8efaed68",
   "metadata": {},
   "outputs": [],
   "source": [
    "# Save summary\n",
    "provider_df = provider_counts.reset_index()  # Convert Series to DataFrame\n",
    "provider_df.columns = ['Provider_Name', 'UniquePatients']\n",
    "\n",
    "# Merge with total_visits to align properly\n",
    "merged = provider_df.merge(total_visits, on='Provider_Name', how='left')\n",
    "\n",
    "# Then add quality rate\n",
    "summary = merged.merge(quality_rate_df, on='Provider_Name', how='left')\n",
    "\n",
    "print(summary)\n"
   ]
  },
  {
   "cell_type": "code",
   "execution_count": null,
   "id": "9549c9d0-6c0e-431e-adbe-10c600d23c77",
   "metadata": {},
   "outputs": [],
   "source": [
    "# Plot (creates dashboard.png)\n",
    "fig, axes = plt.subplots(2,2, figsize=(12,10))\n",
    "plt.tight_layout(pad=4.0)\n",
    "axes[0,0].bar(provider_counts.index, provider_counts.values)\n",
    "axes[0,0].set_title('Patients per Provider')\n",
    "axes[0,0].set_ylabel('Unique Patients')\n",
    "axes[0,0].tick_params(axis='x', rotation=45, labelsize=8)\n",
    "axes[0,1].bar(quality_rate.index, quality_rate.values)\n",
    "axes[0,1].set_title('Quality Metric Compliance (%)')\n",
    "axes[0,1].set_ylabel('Compliance %')\n",
    "axes[0,1].tick_params(axis='x', rotation=45, labelsize=8)\n",
    "visit_counts = df['Visit_Type'].value_counts()\n",
    "axes[1,0].pie(visit_counts.values, labels=visit_counts.index, autopct='%1.1f%%')\n",
    "axes[1,0].set_title('Visit Type Distribution')\n",
    "top_diag = df['Diagnosis_Code'].value_counts().head(5)\n",
    "axes[1,1].bar(top_diag.index, top_diag.values)\n",
    "axes[1,1].set_title('Top 5 Diagnoses')\n",
    "fig.savefig('dashboard.png', bbox_inches='tight', dpi=150)\n",
    "plt.show()\n"
   ]
  },
  {
   "cell_type": "code",
   "execution_count": null,
   "id": "b6c559dc-5cf6-472d-b4b9-b8521a72d6e1",
   "metadata": {},
   "outputs": [],
   "source": [
    "## Methods and Limitations\n",
    "\n",
    "** Methods **\n",
    "- **Data Generation**: This dataset is synthetic and was created for demonstration purposes. Patient IDs, Provider IDs, and visit data were randomly generated to simulate realistic patterns without containing any real patient information.\n",
    "- ** KPIs Computed:**\n",
    "- **Visits per Provider:** Total count of patient visits grouped by provider.  \n",
    "  - **Compliance Rate:** Percentage of visits marked as compliant (quality metric met).  \n",
    "  - **Average Wait Time:** Mean time between scheduled and actual appointment.\n",
    "  - **Provider Attribution** Paitents per Provider was calculated as the unique number of                                     patients assigned to each provider.\n",
    "- **Tools Used:** Python (Pandas for data wrangling, Matplotlib/Seaborn for visualization).\n",
    "- An interactive HTML Dashboard was built using plotly to display provider performance metrics, patient volume, and quality compliance rates.\n",
    "\n",
    "**Limitations**\n",
    "- **No Real Patient Data:** These results do not reflect actual clinical performance and are for portfolio purposes only.\n",
    "- **Simplified Metrics:** Compliance is represented as a binary field without accounting for measure-specific thresholds or exclusions.\n",
    "- **No Seasonality or Time Trends:** Data generation did not include real-world variations such as seasonal illness spikes or policy changes."
   ]
  }
 ],
 "metadata": {
  "kernelspec": {
   "display_name": "Python 3 (ipykernel)",
   "language": "python",
   "name": "python3"
  },
  "language_info": {
   "codemirror_mode": {
    "name": "ipython",
    "version": 3
   },
   "file_extension": ".py",
   "mimetype": "text/x-python",
   "name": "python",
   "nbconvert_exporter": "python",
   "pygments_lexer": "ipython3",
   "version": "3.13.3"
  }
 },
 "nbformat": 4,
 "nbformat_minor": 5
}
